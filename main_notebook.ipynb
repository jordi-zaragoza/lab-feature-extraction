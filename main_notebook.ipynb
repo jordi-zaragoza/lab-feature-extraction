{
 "cells": [
  {
   "cell_type": "markdown",
   "id": "million-tours",
   "metadata": {},
   "source": [
    "# We save the categorical from last lab in one variable"
   ]
  },
  {
   "cell_type": "code",
   "execution_count": 2,
   "id": "foster-louis",
   "metadata": {},
   "outputs": [],
   "source": [
    "import pandas as pd\n",
    "import seaborn as sns\n",
    "import matplotlib.pyplot as plt\n",
    "import numpy as np\n",
    "import re\n",
    "from sklearn.preprocessing import OneHotEncoder"
   ]
  },
  {
   "cell_type": "code",
   "execution_count": 3,
   "id": "hairy-cocktail",
   "metadata": {},
   "outputs": [],
   "source": [
    "data = pd.read_csv('files_for_lab/we_fn_use_c_marketing_customer_value_analysis.csv')"
   ]
  },
  {
   "cell_type": "code",
   "execution_count": 4,
   "id": "simplified-decade",
   "metadata": {
    "scrolled": true
   },
   "outputs": [],
   "source": [
    "columns2 = []\n",
    "for col in data.columns:\n",
    "    columns2.append(re.sub(\" \",\"_\", col).lower())\n",
    "data.columns = columns2"
   ]
  },
  {
   "cell_type": "code",
   "execution_count": 5,
   "id": "fifteen-substitute",
   "metadata": {
    "scrolled": true
   },
   "outputs": [],
   "source": [
    "categorical_df = data.select_dtypes(object)"
   ]
  },
  {
   "cell_type": "code",
   "execution_count": 6,
   "id": "endless-punch",
   "metadata": {},
   "outputs": [],
   "source": [
    "categorical_df = categorical_df.drop(columns = ['customer','effective_to_date'])"
   ]
  },
  {
   "cell_type": "code",
   "execution_count": 7,
   "id": "medieval-fleece",
   "metadata": {},
   "outputs": [],
   "source": [
    "mapping = {'No':0,'Yes':1}\n",
    "categorical_df = categorical_df.replace({'response': mapping})\n",
    "mapping = {'M':0,'F':1}\n",
    "categorical_df = categorical_df.replace({'gender': mapping})"
   ]
  },
  {
   "cell_type": "code",
   "execution_count": 8,
   "id": "regional-liberty",
   "metadata": {},
   "outputs": [],
   "source": [
    "mapping = {'Offer1':1,'Offer2':2,'Offer3':3,'Offer4':4}\n",
    "categorical_df = categorical_df.replace({'renew_offer_type': mapping})"
   ]
  },
  {
   "cell_type": "code",
   "execution_count": 21,
   "id": "yellow-collector",
   "metadata": {},
   "outputs": [],
   "source": [
    "categorical_df['policy_type'] = categorical_df.policy_type.apply(lambda x: x.split(\" \")[0])\n",
    "categorical_df['policy'] = categorical_df.policy.apply(lambda x: x[-1])"
   ]
  },
  {
   "cell_type": "code",
   "execution_count": 29,
   "id": "naked-chassis",
   "metadata": {},
   "outputs": [],
   "source": [
    "categorical_df['policy'] = pd.to_numeric(categorical_df['policy'])"
   ]
  },
  {
   "cell_type": "code",
   "execution_count": 30,
   "id": "peripheral-payment",
   "metadata": {},
   "outputs": [],
   "source": [
    "mapping = {'Basic':0,'Extended':1,'Premium':2}\n",
    "categorical_df = categorical_df.replace({'coverage': mapping})\n",
    "mapping = {'Small':0,'Medsize':1,'Large':2}\n",
    "categorical_df = categorical_df.replace({'vehicle_size': mapping})"
   ]
  },
  {
   "cell_type": "code",
   "execution_count": 31,
   "id": "becoming-orleans",
   "metadata": {},
   "outputs": [],
   "source": [
    "# Split numerical and rest\n",
    "categorical_df_num = categorical_df.drop(columns =['state','education','employmentstatus','location_code','policy_type','sales_channel','vehicle_class','marital_status'])\n",
    "categorical_df_rest = categorical_df[['state','education','employmentstatus','location_code','policy_type','sales_channel','vehicle_class','marital_status']]"
   ]
  },
  {
   "cell_type": "code",
   "execution_count": 32,
   "id": "timely-alert",
   "metadata": {},
   "outputs": [],
   "source": [
    "def Luxury_car(x):\n",
    "    if ('Luxury' in x) or ('Sports' in x):\n",
    "        x = \"Luxury\"\n",
    "    return x\n",
    "\n",
    "def High_education(x):\n",
    "    if ('Master' in x) or ('Doctor' in x):\n",
    "        x = \"High Education\"\n",
    "    return x\n",
    "    \n",
    "def Employment(x):\n",
    "    if ('Medical' in x) or ('Disabled' in x) or ('Retired' in x):\n",
    "        x = \"other\"\n",
    "    return x\n",
    "\n",
    "categorical_df_rest2 = categorical_df_rest.copy()\n",
    "categorical_df_rest2['vehicle_class'] = categorical_df_rest2['vehicle_class'].apply(Luxury_car)\n",
    "categorical_df_rest2['education'] = categorical_df_rest2['education'].apply(High_education)\n",
    "categorical_df_rest2['employmentstatus'] = categorical_df_rest2['employmentstatus'].apply(Employment)"
   ]
  },
  {
   "cell_type": "code",
   "execution_count": 33,
   "id": "verified-freeware",
   "metadata": {},
   "outputs": [],
   "source": [
    "categorical_df_rest2.to_pickle(\"categorical_df_rest.pkl\")\n",
    "categorical_df_num.to_pickle(\"categorical_df_num.pkl\")"
   ]
  },
  {
   "cell_type": "code",
   "execution_count": 34,
   "id": "vocal-surveillance",
   "metadata": {},
   "outputs": [],
   "source": [
    "enc = OneHotEncoder(handle_unknown='ignore')\n",
    "enc.fit(categorical_df_rest2)\n",
    "onehotlabels = enc.transform(categorical_df_rest2).toarray()\n",
    "categorical_df_enc = pd.DataFrame(onehotlabels,columns = np.concatenate(enc.categories_))"
   ]
  },
  {
   "cell_type": "code",
   "execution_count": 35,
   "id": "engaging-peoples",
   "metadata": {
    "scrolled": false
   },
   "outputs": [],
   "source": [
    "categorical_total = pd.concat([categorical_df_num,categorical_df_enc], axis = 1)"
   ]
  },
  {
   "cell_type": "code",
   "execution_count": 36,
   "id": "legislative-basin",
   "metadata": {},
   "outputs": [],
   "source": [
    "categorical_total.to_pickle(\"categorical_total.pkl\")"
   ]
  },
  {
   "cell_type": "code",
   "execution_count": null,
   "id": "working-cover",
   "metadata": {},
   "outputs": [],
   "source": []
  }
 ],
 "metadata": {
  "kernelspec": {
   "display_name": "Python 3 (ipykernel)",
   "language": "python",
   "name": "python3"
  },
  "language_info": {
   "codemirror_mode": {
    "name": "ipython",
    "version": 3
   },
   "file_extension": ".py",
   "mimetype": "text/x-python",
   "name": "python",
   "nbconvert_exporter": "python",
   "pygments_lexer": "ipython3",
   "version": "3.9.5"
  }
 },
 "nbformat": 4,
 "nbformat_minor": 5
}
